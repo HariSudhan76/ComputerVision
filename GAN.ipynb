{
 "cells": [
  {
   "cell_type": "code",
   "execution_count": 11,
   "id": "d207ef4d",
   "metadata": {},
   "outputs": [
    {
     "data": {
      "text/plain": [
       "'2.10.0'"
      ]
     },
     "execution_count": 11,
     "metadata": {},
     "output_type": "execute_result"
    }
   ],
   "source": [
    "import tensorflow as tf\n",
    "import matplotlib.pyplot as plt\n",
    "import numpy as np\n",
    "from tensorflow.keras import layers\n",
    "tf.__version__"
   ]
  },
  {
   "cell_type": "code",
   "execution_count": 12,
   "id": "5c88b58c",
   "metadata": {},
   "outputs": [],
   "source": [
    "(X_train,y_train),(_,_) = tf.keras.datasets.mnist.load_data() ##NN will learn to create image by own by training datasets\n",
    "##We want only the training dataset, not going to compare or predict so no need to have test set"
   ]
  },
  {
   "cell_type": "code",
   "execution_count": 13,
   "id": "f991a1bc",
   "metadata": {},
   "outputs": [
    {
     "data": {
      "text/plain": [
       "(60000, 28, 28)"
      ]
     },
     "execution_count": 13,
     "metadata": {},
     "output_type": "execute_result"
    }
   ],
   "source": [
    "X_train.shape\n",
    "##28X28 = 784 pixels, therefore 784 inputs for GAN"
   ]
  },
  {
   "cell_type": "code",
   "execution_count": 14,
   "id": "1577ab92",
   "metadata": {},
   "outputs": [
    {
     "name": "stdout",
     "output_type": "stream",
     "text": [
      "8\n"
     ]
    },
    {
     "data": {
      "text/plain": [
       "<matplotlib.image.AxesImage at 0x265eda82c20>"
      ]
     },
     "execution_count": 14,
     "metadata": {},
     "output_type": "execute_result"
    },
    {
     "data": {
      "image/png": "[encoded data removed]",
      "text/plain": [
       "<Figure size 640x480 with 1 Axes>"
      ]
     },
     "metadata": {},
     "output_type": "display_data"
    }
   ],
   "source": [
    "i = np.random.randint(0,60000)\n",
    "print(y_train[i])\n",
    "plt.imshow(X_train[i],cmap='gray')"
   ]
  },
  {
   "cell_type": "code",
   "execution_count": null,
   "id": "71161fbf",
   "metadata": {},
   "outputs": [],
   "source": [
    "X_train = X_train.reshape(X_train.shape[0],28,28,1).astype('float32')"
   ]
  },
  {
   "cell_type": "code",
   "execution_count": 21,
   "id": "f248b129",
   "metadata": {},
   "outputs": [
    {
     "data": {
      "text/plain": [
       "(60000, 28, 28, 1)"
      ]
     },
     "execution_count": 21,
     "metadata": {},
     "output_type": "execute_result"
    }
   ],
   "source": [
    "X_train.shape"
   ]
  },
  {
   "cell_type": "code",
   "execution_count": 32,
   "id": "04e74334",
   "metadata": {},
   "outputs": [
    {
     "data": {
      "text/plain": [
       "(-1.0, 1.0)"
      ]
     },
     "execution_count": 32,
     "metadata": {},
     "output_type": "execute_result"
    }
   ],
   "source": [
    "X_train[0].min(),X_train[0].max()"
   ]
  },
  {
   "cell_type": "code",
   "execution_count": 31,
   "id": "b1118200",
   "metadata": {},
   "outputs": [],
   "source": [
    "X_train = (X_train-127.5)/127.5 ##This normalization gives results between -1 to 1, \n",
    "                ## the reason is GAN gives better results with this type of normalization"
   ]
  },
  {
   "cell_type": "code",
   "execution_count": 30,
   "id": "647643b2",
   "metadata": {},
   "outputs": [
    {
     "data": {
      "text/plain": [
       "127.5"
      ]
     },
     "execution_count": 30,
     "metadata": {},
     "output_type": "execute_result"
    }
   ],
   "source": [
    "255/2"
   ]
  },
  {
   "cell_type": "code",
   "execution_count": null,
   "id": "1db3b327",
   "metadata": {},
   "outputs": [],
   "source": [
    "buffersize = 60000\n",
    "batchsize = 256 ##Total 256 images will be passed for each batch"
   ]
  },
  {
   "cell_type": "code",
   "execution_count": null,
   "id": "2f101356",
   "metadata": {},
   "outputs": [
    {
     "data": {
      "text/plain": [
       "234.375"
      ]
     },
     "execution_count": 36,
     "metadata": {},
     "output_type": "execute_result"
    }
   ],
   "source": [
    "buffersize/batchsize ##Total of 234 batches. each batch 256 images will be passes."
   ]
  },
  {
   "cell_type": "code",
   "execution_count": 35,
   "id": "24b12a9f",
   "metadata": {},
   "outputs": [],
   "source": [
    "X_train = tf.data.Dataset.from_tensor_slices(X_train).shuffle(buffersize).batch(batchsize)"
   ]
  }
 ],
 "metadata": {
  "kernelspec": {
   "display_name": "Python 3",
   "language": "python",
   "name": "python3"
  },
  "language_info": {
   "codemirror_mode": {
    "name": "ipython",
    "version": 3
   },
   "file_extension": ".py",
   "mimetype": "text/x-python",
   "name": "python",
   "nbconvert_exporter": "python",
   "pygments_lexer": "ipython3",
   "version": "3.10.11"
  }
 },
 "nbformat": 4,
 "nbformat_minor": 5
}
